{
  "nbformat": 4,
  "nbformat_minor": 0,
  "metadata": {
    "colab": {
      "provenance": [],
      "authorship_tag": "ABX9TyPClPYJx+BLTkco7I88qJqj",
      "include_colab_link": true
    },
    "kernelspec": {
      "name": "python3",
      "display_name": "Python 3"
    },
    "language_info": {
      "name": "python"
    }
  },
  "cells": [
    {
      "cell_type": "markdown",
      "metadata": {
        "id": "view-in-github",
        "colab_type": "text"
      },
      "source": [
        "<a href=\"https://colab.research.google.com/github/ELiTE0005/NNML-algorithms/blob/main/FIND_S.ipynb\" target=\"_parent\"><img src=\"https://colab.research.google.com/assets/colab-badge.svg\" alt=\"Open In Colab\"/></a>"
      ]
    },
    {
      "cell_type": "code",
      "execution_count": 1,
      "metadata": {
        "colab": {
          "base_uri": "https://localhost:8080/"
        },
        "id": "-ViGe0fBitVg",
        "outputId": "ddf7899e-cfad-4236-d2ed-52e79b48b6da"
      },
      "outputs": [
        {
          "output_type": "stream",
          "name": "stdout",
          "text": [
            "<class 'pandas.core.frame.DataFrame'>\n",
            "RangeIndex: 9537 entries, 0 to 9536\n",
            "Data columns (total 11 columns):\n",
            " #   Column               Non-Null Count  Dtype  \n",
            "---  ------               --------------  -----  \n",
            " 0   session_id           9537 non-null   object \n",
            " 1   network_packet_size  9537 non-null   int64  \n",
            " 2   protocol_type        9537 non-null   object \n",
            " 3   login_attempts       9537 non-null   int64  \n",
            " 4   session_duration     9537 non-null   float64\n",
            " 5   encryption_used      7571 non-null   object \n",
            " 6   ip_reputation_score  9537 non-null   float64\n",
            " 7   failed_logins        9537 non-null   int64  \n",
            " 8   browser_type         9537 non-null   object \n",
            " 9   unusual_time_access  9537 non-null   int64  \n",
            " 10  attack_detected      9537 non-null   int64  \n",
            "dtypes: float64(2), int64(5), object(4)\n",
            "memory usage: 819.7+ KB\n"
          ]
        },
        {
          "output_type": "execute_result",
          "data": {
            "text/plain": [
              "(None,\n",
              "   session_id  network_packet_size protocol_type  login_attempts  \\\n",
              " 0  SID_00001                  599           TCP               4   \n",
              " 1  SID_00002                  472           TCP               3   \n",
              " 2  SID_00003                  629           TCP               3   \n",
              " 3  SID_00004                  804           UDP               4   \n",
              " 4  SID_00005                  453           TCP               5   \n",
              " \n",
              "    session_duration encryption_used  ip_reputation_score  failed_logins  \\\n",
              " 0        492.983263             DES             0.606818              1   \n",
              " 1       1557.996461             DES             0.301569              0   \n",
              " 2         75.044262             DES             0.739164              2   \n",
              " 3        601.248835             DES             0.123267              0   \n",
              " 4        532.540888             AES             0.054874              1   \n",
              " \n",
              "   browser_type  unusual_time_access  attack_detected  \n",
              " 0         Edge                    0                1  \n",
              " 1      Firefox                    0                0  \n",
              " 2       Chrome                    0                1  \n",
              " 3      Unknown                    0                1  \n",
              " 4      Firefox                    0                0  )"
            ]
          },
          "metadata": {},
          "execution_count": 1
        }
      ],
      "source": [
        "# Re-import pandas\n",
        "import pandas as pd\n",
        "\n",
        "# Reload the dataset\n",
        "file_path = \"cybersecurity_intrusion_data.csv\"\n",
        "df = pd.read_csv(file_path)\n",
        "\n",
        "# Display basic info and first few rows\n",
        "df.info(), df.head()\n"
      ]
    },
    {
      "cell_type": "code",
      "source": [
        "# Selecting categorical attributes\n",
        "categorical_columns = ['protocol_type', 'encryption_used', 'browser_type']\n",
        "df_categorical = df[categorical_columns + ['attack_detected']]\n",
        "\n",
        "# Apply Find-S algorithm\n",
        "def find_s_algorithm(data, target_column):\n",
        "    # Filter only positive examples (attack_detected = 1)\n",
        "    positive_examples = data[data[target_column] == 1].drop(columns=[target_column])\n",
        "\n",
        "    # Initialize hypothesis with the first positive example\n",
        "    hypothesis = positive_examples.iloc[0].values.tolist()\n",
        "\n",
        "    # Generalize hypothesis by comparing with other positive examples\n",
        "    for _, row in positive_examples.iterrows():\n",
        "        for i in range(len(hypothesis)):\n",
        "            if hypothesis[i] != row[i]:\n",
        "                hypothesis[i] = '?'  # Generalize\n",
        "\n",
        "    return hypothesis\n",
        "\n",
        "# Running Find-S on the dataset\n",
        "find_s_hypothesis = find_s_algorithm(df_categorical, 'attack_detected')\n",
        "find_s_hypothesis\n"
      ],
      "metadata": {
        "colab": {
          "base_uri": "https://localhost:8080/"
        },
        "id": "ys7-sadoi_62",
        "outputId": "9cc7cae0-4606-4940-df2a-8e484c7a174f"
      },
      "execution_count": 2,
      "outputs": [
        {
          "output_type": "stream",
          "name": "stderr",
          "text": [
            "<ipython-input-2-2082806f95cf>:16: FutureWarning: Series.__getitem__ treating keys as positions is deprecated. In a future version, integer keys will always be treated as labels (consistent with DataFrame behavior). To access a value by position, use `ser.iloc[pos]`\n",
            "  if hypothesis[i] != row[i]:\n"
          ]
        },
        {
          "output_type": "execute_result",
          "data": {
            "text/plain": [
              "['?', '?', '?']"
            ]
          },
          "metadata": {},
          "execution_count": 2
        }
      ]
    },
    {
      "cell_type": "code",
      "source": [],
      "metadata": {
        "id": "GevYR2sojCVF"
      },
      "execution_count": null,
      "outputs": []
    }
  ]
}