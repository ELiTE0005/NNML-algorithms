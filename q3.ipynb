{
  "nbformat": 4,
  "nbformat_minor": 0,
  "metadata": {
    "colab": {
      "provenance": [],
      "authorship_tag": "ABX9TyN/fkV+CTgglhBrKxLqxIyO",
      "include_colab_link": true
    },
    "kernelspec": {
      "name": "python3",
      "display_name": "Python 3"
    },
    "language_info": {
      "name": "python"
    }
  },
  "cells": [
    {
      "cell_type": "markdown",
      "metadata": {
        "id": "view-in-github",
        "colab_type": "text"
      },
      "source": [
        "<a href=\"https://colab.research.google.com/github/ELiTE0005/NNML-algorithms/blob/main/q3.ipynb\" target=\"_parent\"><img src=\"https://colab.research.google.com/assets/colab-badge.svg\" alt=\"Open In Colab\"/></a>"
      ]
    },
    {
      "cell_type": "code",
      "execution_count": null,
      "metadata": {
        "id": "RiGlEi8Cw3md"
      },
      "outputs": [],
      "source": [
        "# To build a simple Artificial Neural Network (ANN) using the Backpropagation algorithm to predict the expected percentage in exams based on hours of sleep and study.\n",
        "\n",
        "\n",
        "# Registration No: RA2311047010110\n",
        "\n",
        "import numpy as np\n",
        "from sklearn.neural_network import MLPRegressor\n",
        "\n",
        "# Dataset\n",
        "X = np.array([[2, 9], [1, 5], [3, 6]])       # Sleep, Study\n",
        "y = np.array([92, 86, 89])                  # Expected % in exams\n",
        "\n",
        "# Model\n",
        "model = MLPRegressor(hidden_layer_sizes=(5,), activation='relu', solver='adam', max_iter=1000, random_state=1)\n",
        "model.fit(X, y)\n",
        "\n",
        "# Prediction\n",
        "predictions = model.predict(X)\n",
        "\n",
        "# Output\n",
        "for i, pred in enumerate(predictions):\n",
        "    print(f\"Example {i+1} - Predicted: {pred:.2f}, Actual: {y[i]}\")\n"
      ]
    }
  ]
}