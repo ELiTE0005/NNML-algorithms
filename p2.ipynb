{
  "nbformat": 4,
  "nbformat_minor": 0,
  "metadata": {
    "colab": {
      "provenance": [],
      "authorship_tag": "ABX9TyPVd6H4TEL9u6GYwxCBv/Wh",
      "include_colab_link": true
    },
    "kernelspec": {
      "name": "python3",
      "display_name": "Python 3"
    },
    "language_info": {
      "name": "python"
    }
  },
  "cells": [
    {
      "cell_type": "markdown",
      "metadata": {
        "id": "view-in-github",
        "colab_type": "text"
      },
      "source": [
        "<a href=\"https://colab.research.google.com/github/ELiTE0005/NNML-algorithms/blob/main/p2.ipynb\" target=\"_parent\"><img src=\"https://colab.research.google.com/assets/colab-badge.svg\" alt=\"Open In Colab\"/></a>"
      ]
    },
    {
      "cell_type": "code",
      "execution_count": 2,
      "metadata": {
        "colab": {
          "base_uri": "https://localhost:8080/"
        },
        "id": "DVFSTxOSH9g2",
        "outputId": "967aabac-fa11-4ccd-c847-5366fac21867"
      },
      "outputs": [
        {
          "output_type": "stream",
          "name": "stdout",
          "text": [
            "Predicted labels: [1 1 0 1 0 0]\n"
          ]
        }
      ],
      "source": [
        "from sklearn.preprocessing import LabelEncoder\n",
        "from sklearn.svm import SVC\n",
        "import pandas as pd\n",
        "\n",
        "# ✅ Corrected Dataset (6 samples in each column)\n",
        "data = {\n",
        "    'Sky': ['Sunny', 'Sunny', 'Rainy', 'Rainy', 'Sunny', 'Rainy'],\n",
        "    'Temp': ['Warm', 'Warm', 'Cold', 'Warm', 'Cold', 'Warm'],\n",
        "    'Humidity': ['Normal', 'High', 'High', 'High', 'Normal', 'High'],\n",
        "    'Wind': ['Strong', 'Strong', 'Strong', 'Strong', 'Weak', 'Weak'],\n",
        "    'PlayTennis': ['Yes', 'Yes', 'No', 'Yes', 'No', 'No']\n",
        "}\n",
        "\n",
        "df = pd.DataFrame(data)\n",
        "\n",
        "# Encode categorical values\n",
        "le = LabelEncoder()\n",
        "df_encoded = df.apply(le.fit_transform)\n",
        "\n",
        "# Features and target\n",
        "X = df_encoded[['Sky', 'Temp', 'Humidity', 'Wind']]\n",
        "y = df_encoded['PlayTennis']\n",
        "\n",
        "# SVM model\n",
        "svm = SVC(kernel='linear', C=1.0)\n",
        "svm.fit(X, y)\n",
        "\n",
        "# Prediction on training data\n",
        "y_pred = svm.predict(X)\n",
        "\n",
        "# Output predictions\n",
        "print(\"Predicted labels:\", y_pred)\n"
      ]
    }
  ]
}