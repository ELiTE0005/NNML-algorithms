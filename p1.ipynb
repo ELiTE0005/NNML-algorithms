{
  "nbformat": 4,
  "nbformat_minor": 0,
  "metadata": {
    "colab": {
      "provenance": [],
      "authorship_tag": "ABX9TyPrgxx5gnWeY76NkVcV2Mfn",
      "include_colab_link": true
    },
    "kernelspec": {
      "name": "python3",
      "display_name": "Python 3"
    },
    "language_info": {
      "name": "python"
    }
  },
  "cells": [
    {
      "cell_type": "markdown",
      "metadata": {
        "id": "view-in-github",
        "colab_type": "text"
      },
      "source": [
        "<a href=\"https://colab.research.google.com/github/ELiTE0005/NNML-algorithms/blob/main/p1.ipynb\" target=\"_parent\"><img src=\"https://colab.research.google.com/assets/colab-badge.svg\" alt=\"Open In Colab\"/></a>"
      ]
    },
    {
      "cell_type": "code",
      "execution_count": 1,
      "metadata": {
        "colab": {
          "base_uri": "https://localhost:8080/"
        },
        "id": "kKadq67eHn40",
        "outputId": "258cd0e4-6138-48b7-f395-ac98ded319e5"
      },
      "outputs": [
        {
          "output_type": "stream",
          "name": "stdout",
          "text": [
            "Predicted labels: [1 1 1 1 0]\n"
          ]
        }
      ],
      "source": [
        "from sklearn.preprocessing import LabelEncoder\n",
        "from sklearn.neighbors import KNeighborsClassifier\n",
        "import pandas as pd\n",
        "\n",
        "# Dataset\n",
        "data = {\n",
        "    'Sky': ['Sunny', 'Sunny', 'Rainy', 'Sunny', 'Rainy'],\n",
        "    'Temp': ['Warm', 'Warm', 'Cold', 'Warm', 'Cold'],\n",
        "    'Humidity': ['Normal', 'High', 'High', 'High', 'Normal'],\n",
        "    'Wind': ['Strong', 'Strong', 'Strong', 'Strong', 'Weak'],\n",
        "    'PlayTennis': ['Yes', 'Yes', 'No', 'Yes', 'No']\n",
        "}\n",
        "\n",
        "df = pd.DataFrame(data)\n",
        "\n",
        "# Encode categorical variables\n",
        "le = LabelEncoder()\n",
        "df_encoded = df.apply(le.fit_transform)\n",
        "\n",
        "# Features and target\n",
        "X = df_encoded[['Sky', 'Temp', 'Humidity', 'Wind']]\n",
        "y = df_encoded['PlayTennis']\n",
        "\n",
        "# KNN model (k=3)\n",
        "knn = KNeighborsClassifier(n_neighbors=3)\n",
        "knn.fit(X, y)\n",
        "\n",
        "# Prediction on training data\n",
        "y_pred = knn.predict(X)\n",
        "\n",
        "# Output predictions\n",
        "print(\"Predicted labels:\", y_pred)\n"
      ]
    }
  ]
}