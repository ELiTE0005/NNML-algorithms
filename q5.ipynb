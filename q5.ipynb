{
  "nbformat": 4,
  "nbformat_minor": 0,
  "metadata": {
    "colab": {
      "provenance": [],
      "authorship_tag": "ABX9TyOhdGBFDIQVohZFjSKDYUKL",
      "include_colab_link": true
    },
    "kernelspec": {
      "name": "python3",
      "display_name": "Python 3"
    },
    "language_info": {
      "name": "python"
    }
  },
  "cells": [
    {
      "cell_type": "markdown",
      "metadata": {
        "id": "view-in-github",
        "colab_type": "text"
      },
      "source": [
        "<a href=\"https://colab.research.google.com/github/ELiTE0005/NNML-algorithms/blob/main/q5.ipynb\" target=\"_parent\"><img src=\"https://colab.research.google.com/assets/colab-badge.svg\" alt=\"Open In Colab\"/></a>"
      ]
    },
    {
      "cell_type": "code",
      "execution_count": null,
      "metadata": {
        "id": "v6wrxryVyCdh"
      },
      "outputs": [],
      "source": [
        "# Implement a Single-Layer Perceptron to classify whether a student will be admitted to college based on two features:\n",
        "\n",
        "# GRE Score\n",
        "\n",
        "# TOEFL Score\n",
        "\n",
        "# Registration No: RA2311047010110\n",
        "\n",
        "import pandas as pd\n",
        "import numpy as np\n",
        "from sklearn.linear_model import Perceptron\n",
        "from sklearn.model_selection import train_test_split\n",
        "from sklearn.metrics import accuracy_score, confusion_matrix\n",
        "\n",
        "# Load dataset\n",
        "data = pd.read_csv('applicant_score_dataset.csv')\n",
        "X = data[['GRE Score', 'TOEFL Score']]\n",
        "y = data['Admitted']  # Assuming 1 = Admitted, 0 = Not Admitted\n",
        "\n",
        "# Split data\n",
        "X_train, X_test, y_train, y_test = train_test_split(X, y, test_size=0.2, random_state=0)\n",
        "\n",
        "# Create single-layer perceptron\n",
        "model = Perceptron(max_iter=1000, eta0=0.1, random_state=0)\n",
        "model.fit(X_train, y_train)\n",
        "\n",
        "# Predict\n",
        "y_pred = model.predict(X_test)\n",
        "\n",
        "# Output\n",
        "print(\"Accuracy:\", accuracy_score(y_test, y_pred))\n",
        "print(\"Confusion Matrix:\\n\", confusion_matrix(y_test, y_pred))\n",
        "\n"
      ]
    },
    {
      "cell_type": "code",
      "source": [],
      "metadata": {
        "id": "-fiML5h5yKbn"
      },
      "execution_count": null,
      "outputs": []
    }
  ]
}